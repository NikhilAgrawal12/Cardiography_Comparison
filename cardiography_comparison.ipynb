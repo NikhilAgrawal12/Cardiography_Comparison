{
 "cells": [
  {
   "cell_type": "markdown",
   "id": "cc60edd6-8969-4e69-b89d-0e6d07416549",
   "metadata": {},
   "source": [
    "## 1"
   ]
  },
  {
   "cell_type": "code",
   "execution_count": 31,
   "id": "8f6661cf-9199-4ba6-9333-8a6e7acf6b42",
   "metadata": {},
   "outputs": [
    {
     "name": "stdout",
     "output_type": "stream",
     "text": [
      "       FileName       Date      SegFile    b     e  LBE   LB  AC  FM  UC  ...  \\\n",
      "0  Variab10.txt 1996-12-01  CTG0001.txt  240   357  120  120   0   0   0  ...   \n",
      "1    Fmcs_1.txt 1996-05-03  CTG0002.txt    5   632  132  132   4   0   4  ...   \n",
      "2    Fmcs_1.txt 1996-05-03  CTG0003.txt  177   779  133  133   2   0   5  ...   \n",
      "3    Fmcs_1.txt 1996-05-03  CTG0004.txt  411  1192  134  134   2   0   6  ...   \n",
      "4    Fmcs_1.txt 1996-05-03  CTG0005.txt  533  1147  132  132   4   0   5  ...   \n",
      "\n",
      "   D  E  AD  DE  LD  FS  SUSP  CLASS  NSP  binary_label  \n",
      "0  0  0   0   0   0   1     0      9    2             0  \n",
      "1  0  0   1   0   0   0     0      6    1             1  \n",
      "2  0  0   1   0   0   0     0      6    1             1  \n",
      "3  0  0   1   0   0   0     0      6    1             1  \n",
      "4  0  0   0   0   0   0     0      2    1             1  \n",
      "\n",
      "[5 rows x 41 columns]\n"
     ]
    }
   ],
   "source": [
    "import pandas as pd\n",
    "\n",
    "file_path = 'cardiotocography_data_set.xlsx'  \n",
    "df = pd.read_excel(file_path)\n",
    "\n",
    "# Combine NSP labels into two groups: 1 (Normal) and 0 (Abnormal)\n",
    "df['binary_label'] = df['NSP'].apply(lambda x: 1 if x == 1 else 0)\n",
    "\n",
    "# Display the first few rows\n",
    "print(df.head())\n",
    "\n",
    "# Group 1 features: 'LB', 'ALTV', 'Min', 'Mean'\n",
    "features = ['LB', 'ALTV', 'Min', 'Mean']\n",
    "X = df[features]\n",
    "y = df['binary_label']"
   ]
  },
  {
   "cell_type": "markdown",
   "id": "5df3bc72-732a-433f-9894-7aa91ab09b08",
   "metadata": {},
   "source": [
    "## 2"
   ]
  },
  {
   "cell_type": "code",
   "execution_count": 33,
   "id": "01ff4711-200d-4bc5-803c-e1b9d88c1b2e",
   "metadata": {},
   "outputs": [
    {
     "name": "stdout",
     "output_type": "stream",
     "text": [
      "Naive Bayes Accuracy: 0.839134524929445\n",
      "Naive Bayes Confusion Matrix:\n",
      "[[135  99]\n",
      " [ 72 757]]\n"
     ]
    }
   ],
   "source": [
    "from sklearn.model_selection import train_test_split\n",
    "from sklearn.naive_bayes import GaussianNB\n",
    "from sklearn.metrics import accuracy_score, confusion_matrix\n",
    "\n",
    "# Split the dataset 50/50 for training and testing\n",
    "X_train, X_test, y_train, y_test = train_test_split(X, y, test_size=0.5, random_state=42)\n",
    "\n",
    "# Naive Bayes Classifier\n",
    "nb_model = GaussianNB()\n",
    "nb_model.fit(X_train, y_train)\n",
    "y_pred_nb = nb_model.predict(X_test)\n",
    "\n",
    "# Calculate accuracy\n",
    "accuracy_nb = accuracy_score(y_test, y_pred_nb)\n",
    "print(f\"Naive Bayes Accuracy: {accuracy_nb}\")\n",
    "\n",
    "# Compute confusion matrix\n",
    "conf_matrix_nb = confusion_matrix(y_test, y_pred_nb)\n",
    "print(f\"Naive Bayes Confusion Matrix:\\n{conf_matrix_nb}\")\n"
   ]
  },
  {
   "cell_type": "markdown",
   "id": "550724a5-9bd6-4361-a681-4b70be01e49b",
   "metadata": {},
   "source": [
    "## 3"
   ]
  },
  {
   "cell_type": "code",
   "execution_count": 38,
   "id": "ad09cb42-2c6a-4447-9f51-da5d70b8eb02",
   "metadata": {},
   "outputs": [
    {
     "name": "stdout",
     "output_type": "stream",
     "text": [
      "Logistic Regression Accuracy: 0.8645343367826905\n",
      "Logistic Regression Confusion Matrix:\n",
      "[[141  93]\n",
      " [ 51 778]]\n"
     ]
    }
   ],
   "source": [
    "from sklearn.linear_model import LogisticRegression\n",
    "\n",
    "# Logistic Regression Classifier\n",
    "lr_model = LogisticRegression(max_iter=1000)\n",
    "lr_model.fit(X_train, y_train)\n",
    "y_pred_lr = lr_model.predict(X_test)\n",
    "\n",
    "# Calculate accuracy\n",
    "accuracy_lr = accuracy_score(y_test, y_pred_lr)\n",
    "print(f\"Logistic Regression Accuracy: {accuracy_lr}\")\n",
    "\n",
    "# Compute confusion matrix\n",
    "conf_matrix_lr = confusion_matrix(y_test, y_pred_lr)\n",
    "print(f\"Logistic Regression Confusion Matrix:\\n{conf_matrix_lr}\")\n"
   ]
  },
  {
   "cell_type": "markdown",
   "id": "0c51d53a-f05e-4c30-b14f-88a099fa1895",
   "metadata": {},
   "source": [
    "## 4"
   ]
  },
  {
   "cell_type": "code",
   "execution_count": 41,
   "id": "f3b04d12-fe3c-41a4-9c57-5cbcce09de04",
   "metadata": {},
   "outputs": [
    {
     "name": "stdout",
     "output_type": "stream",
     "text": [
      "Decision Tree Accuracy: 0.8513640639698965\n",
      "Decision Tree Confusion Matrix:\n",
      "[[160  74]\n",
      " [ 84 745]]\n"
     ]
    }
   ],
   "source": [
    "from sklearn.tree import DecisionTreeClassifier\n",
    "\n",
    "# Decision Tree Classifier\n",
    "dt_model = DecisionTreeClassifier(random_state=42)\n",
    "dt_model.fit(X_train, y_train)\n",
    "y_pred_dt = dt_model.predict(X_test)\n",
    "\n",
    "# Calculate accuracy\n",
    "accuracy_dt = accuracy_score(y_test, y_pred_dt)\n",
    "print(f\"Decision Tree Accuracy: {accuracy_dt}\")\n",
    "\n",
    "# Compute confusion matrix\n",
    "conf_matrix_dt = confusion_matrix(y_test, y_pred_dt)\n",
    "print(f\"Decision Tree Confusion Matrix:\\n{conf_matrix_dt}\")"
   ]
  },
  {
   "cell_type": "markdown",
   "id": "3c582ca2-5ee1-4452-94ee-f9260357fdb8",
   "metadata": {},
   "source": [
    "## 5"
   ]
  },
  {
   "cell_type": "code",
   "execution_count": 50,
   "id": "fb9dafa0-3d8e-4e05-9784-4b75b56ddca5",
   "metadata": {},
   "outputs": [
    {
     "data": {
      "image/png": "[encoded data removed]",
      "text/plain": [
       "<Figure size 640x480 with 1 Axes>"
      ]
     },
     "metadata": {},
     "output_type": "display_data"
    },
    {
     "name": "stdout",
     "output_type": "stream",
     "text": [
      "Best combination: N=10, d=5\n",
      "Accuracy for best combination: 0.889934148635936\n",
      "Confusion Matrix for best combination:\n",
      "[[156  78]\n",
      " [ 39 790]]\n"
     ]
    }
   ],
   "source": [
    "from sklearn.ensemble import RandomForestClassifier\n",
    "import numpy as np\n",
    "import matplotlib.pyplot as plt\n",
    "\n",
    "# Assuming X and y are already defined from the previous steps\n",
    "# Split the dataset 50/50 for training and testing\n",
    "X_train, X_test, y_train, y_test = train_test_split(X, y, test_size=0.5, random_state=42)\n",
    "\n",
    "# Set values for N (number of trees) and d (maximum depth)\n",
    "n_values = range(1, 11)  # N = 1 to 10\n",
    "d_values = range(1, 6)   # d = 1 to 5\n",
    "\n",
    "error_rates = []\n",
    "best_accuracy = 0\n",
    "best_n, best_d = 0, 0\n",
    "best_conf_matrix = None\n",
    "\n",
    "# Loop over all combinations of N and d\n",
    "for n in n_values:\n",
    "    for d in d_values:\n",
    "        # Create and train the Random Forest Classifier\n",
    "        rf_model = RandomForestClassifier(n_estimators=n, max_depth=d, criterion='entropy', random_state=42)\n",
    "        rf_model.fit(X_train, y_train)\n",
    "        y_pred_rf = rf_model.predict(X_test)\n",
    "        \n",
    "        # Calculate error rate\n",
    "        accuracy_rf = accuracy_score(y_test, y_pred_rf)\n",
    "        error_rate = 1 - accuracy_rf\n",
    "        error_rates.append((n, d, error_rate))\n",
    "        \n",
    "        # Track the best combination of N and d\n",
    "        if accuracy_rf > best_accuracy:\n",
    "            best_accuracy = accuracy_rf\n",
    "            best_n, best_d = n, d\n",
    "            best_conf_matrix = confusion_matrix(y_test, y_pred_rf)\n",
    "\n",
    "# Plot the error rates\n",
    "error_rates_array = np.array(error_rates)\n",
    "fig, ax = plt.subplots()\n",
    "for d in d_values:\n",
    "    indices = error_rates_array[:, 1] == d\n",
    "    ax.plot(error_rates_array[indices, 0], error_rates_array[indices, 2], label=f'd={d}')\n",
    "ax.set_xlabel('Number of Trees (N)')\n",
    "ax.set_ylabel('Error Rate')\n",
    "ax.set_title('Error Rates for Different Combinations of N and d (Random Forest)')\n",
    "ax.legend()\n",
    "plt.show()\n",
    "\n",
    "# Print best combination of N and d and the corresponding accuracy and confusion matrix\n",
    "print(f\"Best combination: N={best_n}, d={best_d}\")\n",
    "print(f\"Accuracy for best combination: {best_accuracy}\")\n",
    "print(f\"Confusion Matrix for best combination:\\n{best_conf_matrix}\")\n"
   ]
  },
  {
   "cell_type": "markdown",
   "id": "edb8360b-3dfd-4064-9d2d-d1fff94c1184",
   "metadata": {},
   "source": [
    "## 6"
   ]
  },
  {
   "cell_type": "code",
   "execution_count": 53,
   "id": "4fc840ba-6b0f-42c7-99a5-f522a51679c6",
   "metadata": {},
   "outputs": [
    {
     "name": "stdout",
     "output_type": "stream",
     "text": [
      "SVM (Linear) Accuracy: 0.863593603010348\n",
      "SVM (Linear) Confusion Matrix:\n",
      "[[140  94]\n",
      " [ 51 778]]\n",
      "SVM (Degree 2 Polynomial) Accuracy: 0.8541862652869238\n",
      "SVM (Degree 2 Polynomial) Confusion Matrix:\n",
      "[[136  98]\n",
      " [ 57 772]]\n",
      "SVM (Gaussian RBF) Accuracy: 0.8654750705550329\n",
      "SVM (Gaussian RBF) Confusion Matrix:\n",
      "[[139  95]\n",
      " [ 48 781]]\n"
     ]
    }
   ],
   "source": [
    "from sklearn.svm import SVC\n",
    "\n",
    "# SVM with linear kernel\n",
    "svm_linear = SVC(kernel='linear', random_state=42)\n",
    "svm_linear.fit(X_train, y_train)\n",
    "y_pred_svm_linear = svm_linear.predict(X_test)\n",
    "accuracy_svm_linear = accuracy_score(y_test, y_pred_svm_linear)\n",
    "conf_matrix_svm_linear = confusion_matrix(y_test, y_pred_svm_linear)\n",
    "print(f\"SVM (Linear) Accuracy: {accuracy_svm_linear}\")\n",
    "print(f\"SVM (Linear) Confusion Matrix:\\n{conf_matrix_svm_linear}\")\n",
    "\n",
    "# SVM with polynomial kernel (degree 2)\n",
    "svm_poly = SVC(kernel='poly', degree=2, random_state=42)\n",
    "svm_poly.fit(X_train, y_train)\n",
    "y_pred_svm_poly = svm_poly.predict(X_test)\n",
    "accuracy_svm_poly = accuracy_score(y_test, y_pred_svm_poly)\n",
    "conf_matrix_svm_poly = confusion_matrix(y_test, y_pred_svm_poly)\n",
    "print(f\"SVM (Degree 2 Polynomial) Accuracy: {accuracy_svm_poly}\")\n",
    "print(f\"SVM (Degree 2 Polynomial) Confusion Matrix:\\n{conf_matrix_svm_poly}\")\n",
    "\n",
    "# SVM with RBF (Gaussian) kernel\n",
    "svm_rbf = SVC(kernel='rbf', random_state=42)\n",
    "svm_rbf.fit(X_train, y_train)\n",
    "y_pred_svm_rbf = svm_rbf.predict(X_test)\n",
    "accuracy_svm_rbf = accuracy_score(y_test, y_pred_svm_rbf)\n",
    "conf_matrix_svm_rbf = confusion_matrix(y_test, y_pred_svm_rbf)\n",
    "print(f\"SVM (Gaussian RBF) Accuracy: {accuracy_svm_rbf}\")\n",
    "print(f\"SVM (Gaussian RBF) Confusion Matrix:\\n{conf_matrix_svm_rbf}\")\n"
   ]
  },
  {
   "cell_type": "markdown",
   "id": "a4221c92-7d39-4519-a43c-317deadf8436",
   "metadata": {},
   "source": [
    "## 7"
   ]
  },
  {
   "cell_type": "code",
   "execution_count": 59,
   "id": "99f746cb-f62d-4ad5-8f76-39c0f5eaeb73",
   "metadata": {},
   "outputs": [
    {
     "name": "stdout",
     "output_type": "stream",
     "text": [
      "                       Model  Accuracy   TP  FP   TN  FN       TPR       TNR\n",
      "0                Naive Bayes  0.839135  757  99  135  72  0.913148  0.576923\n",
      "1        Logistic Regression  0.864534  778  93  141  51  0.938480  0.602564\n",
      "2              Decision Tree  0.851364  745  74  160  84  0.898673  0.683761\n",
      "3  Random Forest (N=10, d=5)  0.885230  788  81  153  41  0.950543  0.653846\n",
      "4               SVM (Linear)  0.863594  778  94  140  51  0.938480  0.598291\n",
      "5        SVM (Degree 2 Poly)  0.854186  772  98  136  57  0.931242  0.581197\n",
      "6         SVM (Gaussian RBF)  0.865475  781  95  139  48  0.942099  0.594017\n"
     ]
    }
   ],
   "source": [
    "import pandas as pd\n",
    "\n",
    "# Prepare summary table\n",
    "summary_data = [\n",
    "    ('Naive Bayes', accuracy_nb, conf_matrix_nb),\n",
    "    ('Logistic Regression', accuracy_lr, conf_matrix_lr),\n",
    "    ('Decision Tree', accuracy_dt, conf_matrix_dt),\n",
    "    (f'Random Forest (N={best_n}, d={best_d})', best_accuracy_rf, best_conf_matrix_rf),\n",
    "    ('SVM (Linear)', accuracy_svm_linear, conf_matrix_svm_linear),\n",
    "    ('SVM (Degree 2 Poly)', accuracy_svm_poly, conf_matrix_svm_poly),\n",
    "    ('SVM (Gaussian RBF)', accuracy_svm_rbf, conf_matrix_svm_rbf),\n",
    "]\n",
    "\n",
    "summary_df = pd.DataFrame([\n",
    "    {\n",
    "        'Model': model,\n",
    "        'Accuracy': acc,\n",
    "        'TP': cm[1, 1],\n",
    "        'FP': cm[0, 1],\n",
    "        'TN': cm[0, 0],\n",
    "        'FN': cm[1, 0],\n",
    "        'TPR': cm[1, 1] / (cm[1, 1] + cm[1, 0]) if (cm[1, 1] + cm[1, 0]) > 0 else 0,\n",
    "        'TNR': cm[0, 0] / (cm[0, 0] + cm[0, 1]) if (cm[0, 0] + cm[0, 1]) > 0 else 0,\n",
    "    }\n",
    "    for model, acc, cm in summary_data\n",
    "])\n",
    "\n",
    "# Display the summary table\n",
    "print(summary_df)"
   ]
  },
  {
   "cell_type": "markdown",
   "id": "26953fbe-7d67-4fd3-bca3-487efe2df62e",
   "metadata": {},
   "source": [
    "## 8"
   ]
  },
  {
   "cell_type": "code",
   "execution_count": 62,
   "id": "e5cab647-43af-436c-afa5-4e68f024a17c",
   "metadata": {},
   "outputs": [
    {
     "name": "stdout",
     "output_type": "stream",
     "text": [
      "  Feature  Importance\n",
      "3    Mean    0.314321\n",
      "1    ALTV    0.294477\n",
      "2     Min    0.219837\n",
      "0      LB    0.171366\n"
     ]
    }
   ],
   "source": [
    "from sklearn.ensemble import RandomForestClassifier\n",
    "\n",
    "# Train a Random Forest model\n",
    "rf_model = RandomForestClassifier(random_state=42)\n",
    "rf_model.fit(X_train, y_train)\n",
    "\n",
    "# Get feature importances\n",
    "feature_importances = rf_model.feature_importances_\n",
    "importance_df = pd.DataFrame({'Feature': X.columns, 'Importance': feature_importances})\n",
    "importance_df = importance_df.sort_values(by='Importance', ascending=False)\n",
    "\n",
    "print(importance_df)\n"
   ]
  },
  {
   "cell_type": "markdown",
   "id": "b3823a0d-188b-4ee5-a954-38541ac8da19",
   "metadata": {},
   "source": [
    "**Feature Importance from Tree-based Models**\n",
    "\n",
    "\n",
    "Random Forests and Decision Trees inherently calculate feature importance as part of the training process.\n",
    "\n",
    "You can access the feature importance values using the .feature_importances_ attribute after fitting the model."
   ]
  },
  {
   "cell_type": "code",
   "execution_count": null,
   "id": "e3a74cbd-b19c-43de-8f8c-91df3529e5d1",
   "metadata": {},
   "outputs": [],
   "source": []
  }
 ],
 "metadata": {
  "kernelspec": {
   "display_name": "Python 3 (ipykernel)",
   "language": "python",
   "name": "python3"
  },
  "language_info": {
   "codemirror_mode": {
    "name": "ipython",
    "version": 3
   },
   "file_extension": ".py",
   "mimetype": "text/x-python",
   "name": "python",
   "nbconvert_exporter": "python",
   "pygments_lexer": "ipython3",
   "version": "3.12.4"
  }
 },
 "nbformat": 4,
 "nbformat_minor": 5
}
